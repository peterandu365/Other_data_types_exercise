{
 "cells": [
  {
   "cell_type": "markdown",
   "metadata": {},
   "source": [
    "# JSON exercise\n",
    "\n",
    "Download the data from [**here**](https://drive.google.com/file/d/1DGaX5AVfYhmWeb15lI-MzUbSKTYSz9fQ/view?usp=sharing) and answer following questions:\n",
    "1. Find the 10 countries with most projects\n",
    "2. What are top 10 sectors with projects?\n",
    "3. Find the top 10 major project themes (using column 'mjtheme_namecode')\n",
    "4. In 3. above you will notice that some entries have only the code and the name is missing. Create a dataframe with the missing names filled in."
   ]
  },
  {
   "cell_type": "code",
   "execution_count": 1,
   "metadata": {},
   "outputs": [],
   "source": [
    "import pandas as pd\n",
    "import json\n"
   ]
  },
  {
   "cell_type": "code",
   "execution_count": 2,
   "metadata": {},
   "outputs": [
    {
     "name": "stdout",
     "output_type": "stream",
     "text": [
      "<class 'list'>\n"
     ]
    }
   ],
   "source": [
    "# Read Json File:\n",
    "import json\n",
    "#load json object\n",
    "with open('world_bank_projects.json') as f:\n",
    "    nested_json = json.load(f)\n",
    "# print(nested_json)\n",
    "print(type(nested_json))"
   ]
  },
  {
   "cell_type": "code",
   "execution_count": 3,
   "metadata": {},
   "outputs": [
    {
     "data": {
      "text/plain": [
       "list"
      ]
     },
     "execution_count": 3,
     "metadata": {},
     "output_type": "execute_result"
    }
   ],
   "source": [
    "type(nested_json)\n",
    "\n"
   ]
  },
  {
   "cell_type": "code",
   "execution_count": 4,
   "metadata": {},
   "outputs": [
    {
     "data": {
      "text/plain": [
       "countryname\n",
       "People's Republic of China         19\n",
       "Republic of Indonesia              19\n",
       "Socialist Republic of Vietnam      17\n",
       "Republic of India                  16\n",
       "Republic of Yemen                  13\n",
       "People's Republic of Bangladesh    12\n",
       "Nepal                              12\n",
       "Kingdom of Morocco                 12\n",
       "Republic of Mozambique             11\n",
       "Africa                             11\n",
       "Name: project_name, dtype: int64"
      ]
     },
     "execution_count": 4,
     "metadata": {},
     "output_type": "execute_result"
    }
   ],
   "source": [
    "# 1. Find the 10 countries with most projects\n",
    "df =    pd.DataFrame(nested_json)\n",
    "df.groupby('countryname')['project_name'].count().sort_values(ascending=False).head(10)"
   ]
  },
  {
   "cell_type": "code",
   "execution_count": 5,
   "metadata": {},
   "outputs": [
    {
     "data": {
      "text/plain": [
       "Name\n",
       "Other social services                                       106\n",
       "Central government administration                            82\n",
       "Sub-national government administration                       75\n",
       "General agriculture, fishing and forestry sector             65\n",
       "Health                                                       63\n",
       "General public administration sector                         51\n",
       "Rural and Inter-Urban Roads and Highways                     44\n",
       "General water, sanitation and flood protection sector        39\n",
       "Agricultural extension and research                          38\n",
       "Public administration- Agriculture, fishing and forestry     36\n",
       "Name: project_name, dtype: int64"
      ]
     },
     "execution_count": 5,
     "metadata": {},
     "output_type": "execute_result"
    }
   ],
   "source": [
    "# 2. What are top 10 sectors with projects?\n",
    "\n",
    "# expand sector:\n",
    "expand_sector = pd.json_normalize(data=nested_json, record_path='sector', meta=['project_name'])\n",
    "# type(expand_sector)\n",
    "expand_sector.groupby('Name')['project_name'].count().sort_values(ascending=False).head(10)"
   ]
  },
  {
   "cell_type": "code",
   "execution_count": 6,
   "metadata": {},
   "outputs": [
    {
     "data": {
      "text/plain": [
       "code\n",
       "11    250\n",
       "10    216\n",
       "8     210\n",
       "2     199\n",
       "6     168\n",
       "4     146\n",
       "7     130\n",
       "5      77\n",
       "9      50\n",
       "1      38\n",
       "Name: project_name, dtype: int64"
      ]
     },
     "execution_count": 6,
     "metadata": {},
     "output_type": "execute_result"
    }
   ],
   "source": [
    "# 3. Find the top 10 major project themes (using column 'mjtheme_namecode') \n",
    "expand_mjtheme = pd.json_normalize(data=nested_json, record_path='mjtheme_namecode', meta=['project_name'])\n",
    "\n",
    "expand_mjtheme.groupby('code')['project_name'].count().sort_values(ascending=False).head(10)\n"
   ]
  },
  {
   "cell_type": "code",
   "execution_count": 7,
   "metadata": {},
   "outputs": [],
   "source": [
    "# 4. In 3. above you will notice that some entries have only the code and the name is missing. Create a dataframe with the missing names filled in.\n",
    "expand_mjtheme_filled = expand_mjtheme.copy()\n",
    "\n",
    "# expand_mjtheme_filled.sort_values(by = 'code')['name'].replace('', np.nan).fillna(method='ffill')\n",
    "expand_mjtheme_filled.sort_values(by = 'code')['name'].replace('', method='ffill', inplace=True)\n",
    "\n"
   ]
  },
  {
   "cell_type": "code",
   "execution_count": 8,
   "metadata": {},
   "outputs": [],
   "source": [
    "# get a mapping of code to name\n",
    "# code_to_name = expand_mjtheme.drop_duplicates(subset='code', keep='first').set_index('code')['name'].to_dict()\n",
    "code_to_name = expand_mjtheme.sort_values(by = 'name', ascending = False).drop_duplicates(subset='code', keep='first').set_index('code')['name'].to_dict()"
   ]
  },
  {
   "cell_type": "code",
   "execution_count": 9,
   "metadata": {},
   "outputs": [
    {
     "data": {
      "text/plain": [
       "{'9': 'Urban development',\n",
       " '5': 'Trade and integration',\n",
       " '6': 'Social protection and risk management',\n",
       " '7': 'Social dev/gender/inclusion',\n",
       " '10': 'Rural development',\n",
       " '3': 'Rule of law',\n",
       " '2': 'Public sector governance',\n",
       " '8': 'Human development',\n",
       " '4': 'Financial and private sector development',\n",
       " '11': 'Environment and natural resources management',\n",
       " '1': 'Economic management'}"
      ]
     },
     "execution_count": 9,
     "metadata": {},
     "output_type": "execute_result"
    }
   ],
   "source": [
    "# show the mapping dictionary we are going to use\n",
    "code_to_name"
   ]
  },
  {
   "cell_type": "code",
   "execution_count": 10,
   "metadata": {},
   "outputs": [],
   "source": [
    "# fill the empty values with the correct values from mapping\n",
    "expand_mjtheme_filled['name'] = expand_mjtheme_filled['code'].map(code_to_name)"
   ]
  }
 ],
 "metadata": {
  "anaconda-cloud": {},
  "kernelspec": {
   "display_name": "Python 3",
   "language": "python",
   "name": "python3"
  },
  "language_info": {
   "codemirror_mode": {
    "name": "ipython",
    "version": 3
   },
   "file_extension": ".py",
   "mimetype": "text/x-python",
   "name": "python",
   "nbconvert_exporter": "python",
   "pygments_lexer": "ipython3",
   "version": "3.11.1"
  },
  "vscode": {
   "interpreter": {
    "hash": "aee8b7b246df8f9039afb4144a1f6fd8d2ca17a180786b69acc140d282b71a49"
   }
  }
 },
 "nbformat": 4,
 "nbformat_minor": 4
}
